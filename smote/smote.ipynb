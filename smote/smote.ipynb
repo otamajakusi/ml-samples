{
 "cells": [
  {
   "cell_type": "markdown",
   "id": "8860685f",
   "metadata": {},
   "source": [
    "# https://bigdata-tools.com/imbalance-data/ (いくつか修正版)"
   ]
  },
  {
   "cell_type": "code",
   "execution_count": 1,
   "id": "419a29ac",
   "metadata": {},
   "outputs": [
    {
     "data": {
      "text/html": [
       "<style>\n",
       "    div#notebook-container    { width: 95%; }\n",
       "    div#menubar-container     { width: 65%; }\n",
       "    div#maintoolbar-container { width: 99%; }\n",
       "</style>\n"
      ],
      "text/plain": [
       "<IPython.core.display.HTML object>"
      ]
     },
     "metadata": {},
     "output_type": "display_data"
    }
   ],
   "source": [
    "%%HTML\n",
    "<style>\n",
    "    div#notebook-container    { width: 95%; }\n",
    "    div#menubar-container     { width: 65%; }\n",
    "    div#maintoolbar-container { width: 99%; }\n",
    "</style>"
   ]
  },
  {
   "cell_type": "code",
   "execution_count": 2,
   "id": "95e063be",
   "metadata": {},
   "outputs": [],
   "source": [
    "import pandas as pd\n",
    "from sklearn.datasets import make_classification\n",
    "\n",
    "pd.set_option(\"display.max_columns\", None)"
   ]
  },
  {
   "cell_type": "code",
   "execution_count": 3,
   "id": "dcd0e344",
   "metadata": {},
   "outputs": [],
   "source": [
    "#　サンプル数10000、特徴量10のデータを人工的に作成。陰性クラス(0)：陽性クラス(1)＝99.9：0.1\n",
    "\n",
    "data_base = make_classification(\n",
    "    n_samples = 10000, n_features = 10, n_informative = 2, n_redundant = 0, \n",
    "    n_repeated = 0, n_classes = 2, n_clusters_per_class = 2, weights = [0.999, 0.001], \n",
    "    flip_y = 0, class_sep = 1.0, hypercube = True, shift = 0.0, \n",
    "    scale = 1.0, shuffle = True, random_state = 100)"
   ]
  },
  {
   "cell_type": "code",
   "execution_count": 4,
   "id": "029444ad",
   "metadata": {},
   "outputs": [],
   "source": [
    "df = pd.DataFrame(data_base[0], columns = ['特徴量1', '特徴量2', '特徴量3', '特徴量4', '特徴量5', '特徴量6', '特徴量7', '特徴量8', '特徴量9', '特徴量10'])\n",
    "df['クラス'] = data_base[1]"
   ]
  },
  {
   "cell_type": "markdown",
   "id": "3eecab9b",
   "metadata": {},
   "source": [
    "## 不均衡データでロジスティック回帰"
   ]
  },
  {
   "cell_type": "code",
   "execution_count": 5,
   "id": "d12e39bd",
   "metadata": {},
   "outputs": [],
   "source": [
    "from sklearn.linear_model import LogisticRegression\n",
    "from sklearn.model_selection import train_test_split\n",
    "from sklearn.metrics import accuracy_score, confusion_matrix\n",
    "\n",
    "# データを学習用と検証用に分ける\n",
    "x = df.iloc[:, 0:10]\n",
    "y = df['クラス']\n",
    "x_train, x_test, y_train, y_test = train_test_split(x, y, random_state = 100)\n",
    "\n",
    "# 分類モデル作成\n",
    "clf = LogisticRegression()\n",
    "clf.fit(x_train, y_train)\n",
    "\n",
    "# 作成したモデルで、テストデータを予測値\n",
    "y_pred = clf.predict(x_test)"
   ]
  },
  {
   "cell_type": "code",
   "execution_count": 6,
   "id": "943cc57f",
   "metadata": {},
   "outputs": [
    {
     "data": {
      "text/plain": [
       "array([[2497,    1],\n",
       "       [   2,    0]])"
      ]
     },
     "execution_count": 6,
     "metadata": {},
     "output_type": "execute_result"
    }
   ],
   "source": [
    "# 混同行列を作る\n",
    "cm = confusion_matrix(y_test, y_pred)\n",
    "cm"
   ]
  },
  {
   "cell_type": "code",
   "execution_count": 7,
   "id": "4c7a0e06",
   "metadata": {},
   "outputs": [
    {
     "name": "stdout",
     "output_type": "stream",
     "text": [
      "{'tn': 2497, 'fp': 1, 'fn': 2, 'tp': 0}\n",
      "精度：0.9988\n",
      "適合率：0.0000\n",
      "再現率：0.0000\n"
     ]
    }
   ],
   "source": [
    "tn, fp, fn, tp = confusion_matrix(y_test, y_pred).flatten()\n",
    "print(dict(zip(['tn','fp','fn','tp'], (tn, fp, fn, tp))))\n",
    "#精度を求める\n",
    "print(\"精度：{:.4f}\".format(accuracy_score(y_test, y_pred)))\n",
    "print(\"適合率：{:.4f}\".format(tp/(tp+fp)))\n",
    "print(\"再現率：{:.4f}\".format(tp/(tp+fn)))"
   ]
  },
  {
   "cell_type": "markdown",
   "id": "2ec1fa17",
   "metadata": {},
   "source": [
    "# アンダーサンプリングで学習用データ作成 (RandomUnderSampler)"
   ]
  },
  {
   "cell_type": "code",
   "execution_count": 8,
   "id": "900e5527",
   "metadata": {},
   "outputs": [
    {
     "name": "stdout",
     "output_type": "stream",
     "text": [
      "クラス1のサンプル数:8\n",
      "(80, 10)\n"
     ]
    }
   ],
   "source": [
    "from imblearn.under_sampling import RandomUnderSampler\n",
    "\n",
    "# クラス1の数を保存\n",
    "count_train_class_one = y_train.sum()\n",
    "print('クラス1のサンプル数:{}'.format(count_train_class_one)) #クラス1のサンプル数表示\n",
    "\n",
    "# クラス1が全体の10％になるまでクラス0を減らす\n",
    "under = RandomUnderSampler(sampling_strategy=0.11, random_state=100)\n",
    "\n",
    "# 学習用データに反映\n",
    "x_train_under, y_train_under = under.fit_resample(x_train, y_train)\n",
    "\n",
    "print(x_train_under.shape) #学習用データのサンプル数確認"
   ]
  },
  {
   "cell_type": "code",
   "execution_count": 9,
   "id": "ad8a8b02",
   "metadata": {},
   "outputs": [],
   "source": [
    "clf.fit(x_train_under, y_train_under)\n",
    "\n",
    "# 作成したモデルで、テストデータを予測値\n",
    "y_under_pred = clf.predict(x_test)"
   ]
  },
  {
   "cell_type": "code",
   "execution_count": 10,
   "id": "b58d133e",
   "metadata": {},
   "outputs": [
    {
     "data": {
      "text/plain": [
       "array([[2471,   27],\n",
       "       [   1,    1]])"
      ]
     },
     "execution_count": 10,
     "metadata": {},
     "output_type": "execute_result"
    }
   ],
   "source": [
    "# 混同行列を作る\n",
    "cm = confusion_matrix(y_test, y_under_pred)\n",
    "cm"
   ]
  },
  {
   "cell_type": "code",
   "execution_count": 11,
   "id": "325fbfdc",
   "metadata": {},
   "outputs": [
    {
     "name": "stdout",
     "output_type": "stream",
     "text": [
      "{'tn': 2471, 'fp': 27, 'fn': 1, 'tp': 1}\n",
      "精度：0.9888\n",
      "適合率：0.0357\n",
      "再現率：0.5000\n"
     ]
    }
   ],
   "source": [
    "tn, fp, fn, tp = cm.flatten()\n",
    "print(dict(zip(['tn','fp','fn','tp'], (tn, fp, fn, tp))))\n",
    "#精度、適合率、再現率を求める\n",
    "print(\"精度：{:.4f}\".format(accuracy_score(y_test, y_under_pred)))\n",
    "print(\"適合率：{:.4f}\".format(tp/(tp+fp)))\n",
    "print(\"再現率：{:.4f}\".format(tp/(tp+fn)))"
   ]
  },
  {
   "cell_type": "markdown",
   "id": "ec6de99b",
   "metadata": {},
   "source": [
    "# SMOTEで学習用データ作成 (SMOTE)"
   ]
  },
  {
   "cell_type": "code",
   "execution_count": 12,
   "id": "ac97d06d",
   "metadata": {},
   "outputs": [
    {
     "name": "stdout",
     "output_type": "stream",
     "text": [
      "SMOTE前のクラス0のサンプル数:7492\n",
      "SMOTE前のクラス1のサンプル数:8\n",
      "(8241, 10)\n",
      "SMOTE後のクラス0のサンプル数:7492\n",
      "SMOTE後のクラス1のサンプル数:749\n"
     ]
    }
   ],
   "source": [
    "from imblearn.over_sampling import SMOTE\n",
    "\n",
    "# クラス1の数を保存\n",
    "print('SMOTE前のクラス0のサンプル数:{}'.format(y_train[y_train==0].count())) #クラス0のサンプル数表示\n",
    "print('SMOTE前のクラス1のサンプル数:{}'.format(y_train[y_train==1].count())) #クラス1のサンプル数表示\n",
    "\n",
    "# クラス0：クラス1=9:1になるまでクラス1を増やす\n",
    "smote = SMOTE(sampling_strategy = 0.1, random_state=100)\n",
    "\n",
    "# 学習用データに反映\n",
    "x_train_smote, y_train_smote = smote.fit_resample(x_train, y_train)\n",
    "\n",
    "print(x_train_smote.shape) #学習用データのサンプル数確認\n",
    "print(\"SMOTE後のクラス0のサンプル数:{}\".format(y_train_smote[y_train_smote==0].count())) #クラスのサンプル数\n",
    "print(\"SMOTE後のクラス1のサンプル数:{}\".format(y_train_smote[y_train_smote==1].count())) #クラス1のサンプル数"
   ]
  },
  {
   "cell_type": "code",
   "execution_count": 13,
   "id": "2484fdb6",
   "metadata": {},
   "outputs": [],
   "source": [
    "#SMOTEでロジスティック回帰\n",
    "\n",
    "from sklearn.linear_model import LogisticRegression\n",
    "from sklearn.metrics import accuracy_score, confusion_matrix\n",
    "\n",
    "# 分類モデル作成\n",
    "clf_smote = LogisticRegression()\n",
    "clf_smote.fit(x_train_smote, y_train_smote)\n",
    "\n",
    "# 作成したモデルで、テストデータを予測値\n",
    "y_smote_pred = clf_smote.predict(x_test)"
   ]
  },
  {
   "cell_type": "code",
   "execution_count": 14,
   "id": "96fdebe6",
   "metadata": {},
   "outputs": [
    {
     "data": {
      "text/plain": [
       "array([[2477,   21],\n",
       "       [   0,    2]])"
      ]
     },
     "execution_count": 14,
     "metadata": {},
     "output_type": "execute_result"
    }
   ],
   "source": [
    "# 混同行列を作る\n",
    "cm = confusion_matrix(y_test, y_smote_pred)\n",
    "cm"
   ]
  },
  {
   "cell_type": "code",
   "execution_count": 15,
   "id": "3567a971",
   "metadata": {},
   "outputs": [
    {
     "name": "stdout",
     "output_type": "stream",
     "text": [
      "{'tn': 2477, 'fp': 21, 'fn': 0, 'tp': 2}\n",
      "精度：0.9916\n",
      "適合率：0.0870\n",
      "再現率：1.0000\n"
     ]
    }
   ],
   "source": [
    "tn, fp, fn, tp = cm.flatten()\n",
    "print(dict(zip(['tn','fp','fn','tp'], (tn, fp, fn, tp))))\n",
    "#精度、適合率、再現率を求める\n",
    "print(\"精度：{:.4f}\".format(accuracy_score(y_test, y_smote_pred)))\n",
    "print(\"適合率：{:.4f}\".format(tp/(tp+fp)))\n",
    "print(\"再現率：{:.4f}\".format(tp/(tp+fn)))"
   ]
  }
 ],
 "metadata": {
  "kernelspec": {
   "display_name": "Python 3",
   "language": "python",
   "name": "python3"
  },
  "language_info": {
   "codemirror_mode": {
    "name": "ipython",
    "version": 3
   },
   "file_extension": ".py",
   "mimetype": "text/x-python",
   "name": "python",
   "nbconvert_exporter": "python",
   "pygments_lexer": "ipython3",
   "version": "3.7.9"
  }
 },
 "nbformat": 4,
 "nbformat_minor": 5
}
